{
  "nbformat": 4,
  "nbformat_minor": 0,
  "metadata": {
    "colab": {
      "provenance": [],
      "toc_visible": true,
      "authorship_tag": "ABX9TyOOOsKsWGhL6p9bU2ctGbQa"
    },
    "kernelspec": {
      "name": "python3",
      "display_name": "Python 3"
    },
    "language_info": {
      "name": "python"
    }
  },
  "cells": [
    {
      "cell_type": "code",
      "execution_count": 1,
      "metadata": {
        "colab": {
          "base_uri": "https://localhost:8080/"
        },
        "id": "5furndvsRAu5",
        "outputId": "90ba7c71-57e8-4b1a-c437-97c9d7e3d74b"
      },
      "outputs": [
        {
          "output_type": "stream",
          "name": "stdout",
          "text": [
            "Original Text: Hello, how are you?\n",
            "Uppercase Text: HELLO, HOW ARE YOU?\n"
          ]
        }
      ],
      "source": [
        "def convert_to_uppercase(text):\n",
        "    result = \"\"\n",
        "    for char in text:\n",
        "\n",
        "        if 'a' <= char <= 'z':\n",
        "\n",
        "            result += chr(ord(char) - 32)\n",
        "        else:\n",
        "            result += char\n",
        "    return result\n",
        "\n",
        "\n"
      ]
    },
    {
      "cell_type": "code",
      "source": [],
      "metadata": {
        "id": "oEaHq-fmRZxB"
      },
      "execution_count": null,
      "outputs": []
    }
  ]
}